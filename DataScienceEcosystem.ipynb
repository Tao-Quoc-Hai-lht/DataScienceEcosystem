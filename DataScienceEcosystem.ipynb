{
 "cells": [
  {
   "cell_type": "markdown",
   "id": "a2d560f7-e0d4-468d-94b3-342b5ab87661",
   "metadata": {},
   "source": [
    "# Data Science Tools and Ecosystem"
   ]
  },
  {
   "cell_type": "markdown",
   "id": "e40c2b6e-4934-4532-8b04-990493bcc583",
   "metadata": {},
   "source": [
    "**In this notebook, Data Science Tools and Ecosystem are summarized**\r\n",
    "- List popular languages for Data Science.  \r\n",
    "- List common libraries used in Data Science.  \r\n",
    "- Provide an overview of Data Science tools.  \r\n",
    "- Demonstrate arithmetic expressions in Python."
   ]
  },
  {
   "cell_type": "markdown",
   "id": "807b088d-a054-44d3-8c64-c6b0a8b25c58",
   "metadata": {},
   "source": [
    "Some of the popular languages that Data Scientists use are:  \n",
    "    1. Python  \n",
    "    2. R  \n",
    "    3. SQL  \n",
    "    4. Julia"
   ]
  },
  {
   "cell_type": "markdown",
   "id": "445846d2-6e20-4190-a0ea-898945a463ea",
   "metadata": {},
   "source": [
    "Some of the commonly used libraries used by Data Scientists include:  \n",
    "1. Pandas  \n",
    "2. NumPy  \n",
    "3. Matplotlib  \n",
    "4. Scikit-learn"
   ]
  },
  {
   "cell_type": "markdown",
   "id": "1cb0e039-f199-4ea7-9684-9823e70270e2",
   "metadata": {},
   "source": [
    "| Data Science Tools  |  \n",
    "|---------------------|  \n",
    "| Jupyter             |  \n",
    "| RStudio             |  \n",
    "| Apache Spark        |"
   ]
  },
  {
   "cell_type": "markdown",
   "id": "0ce8c637-3b60-4702-881d-d78ac7fb8b42",
   "metadata": {},
   "source": [
    "### Below are a few examples of evaluating arithmetic expressions in Python."
   ]
  },
  {
   "cell_type": "code",
   "execution_count": 9,
   "id": "e6443156-c09b-4abd-8686-cfbc5e243514",
   "metadata": {},
   "outputs": [
    {
     "name": "stdout",
     "output_type": "stream",
     "text": [
      "17\n"
     ]
    }
   ],
   "source": [
    "# This is a simple arithmetic expression to multiply then add integers  \n",
    "x = (3 * 4) + 5  \n",
    "print(x)"
   ]
  },
  {
   "cell_type": "code",
   "execution_count": 11,
   "id": "14590ca8-c8b0-4e06-93cb-ef1ea3510719",
   "metadata": {},
   "outputs": [
    {
     "name": "stdout",
     "output_type": "stream",
     "text": [
      "3.3333333333333335\n"
     ]
    }
   ],
   "source": [
    "# This will convert 200 minutes to hours by dividing by 60  \n",
    "hours = 200 / 60  \n",
    "print(hours)"
   ]
  },
  {
   "cell_type": "markdown",
   "id": "ee560926-e1a3-476d-b29f-96c5b8cb084d",
   "metadata": {},
   "source": [
    "## Author  \n",
    "Tao Quoc Hai"
   ]
  },
  {
   "cell_type": "code",
   "execution_count": null,
   "id": "0b3dbdbf-235a-4d5e-9048-6df7a7bbe415",
   "metadata": {},
   "outputs": [],
   "source": []
  }
 ],
 "metadata": {
  "kernelspec": {
   "display_name": "Python 3 (ipykernel)",
   "language": "python",
   "name": "python3"
  },
  "language_info": {
   "codemirror_mode": {
    "name": "ipython",
    "version": 3
   },
   "file_extension": ".py",
   "mimetype": "text/x-python",
   "name": "python",
   "nbconvert_exporter": "python",
   "pygments_lexer": "ipython3",
   "version": "3.12.4"
  }
 },
 "nbformat": 4,
 "nbformat_minor": 5
}
